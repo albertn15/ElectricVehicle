{
 "cells": [
  {
   "cell_type": "markdown",
   "metadata": {},
   "source": [
    "====================================================\n",
    "# Expectation\n",
    "===================================================="
   ]
  },
  {
   "cell_type": "code",
   "execution_count": 3,
   "metadata": {},
   "outputs": [],
   "source": [
    "import pandas as pd\n",
    "import great_expectations as ge"
   ]
  },
  {
   "cell_type": "code",
   "execution_count": 5,
   "metadata": {},
   "outputs": [],
   "source": [
    "# Load Dataset\n",
    "df = pd.read_csv('P2M3_Albert_Novanto_clean.csv')\n",
    "\n",
    "# To Great Expectation\n",
    "ge_df = ge.from_pandas(df)"
   ]
  },
  {
   "cell_type": "code",
   "execution_count": 18,
   "metadata": {},
   "outputs": [
    {
     "name": "stdout",
     "output_type": "stream",
     "text": [
      "<class 'great_expectations.dataset.pandas_dataset.PandasDataset'>\n",
      "RangeIndex: 181458 entries, 0 to 181457\n",
      "Data columns (total 18 columns):\n",
      " #   Column                                             Non-Null Count   Dtype  \n",
      "---  ------                                             --------------   -----  \n",
      " 0   vin_(1-10)                                         181458 non-null  object \n",
      " 1   county                                             181458 non-null  object \n",
      " 2   city                                               181458 non-null  object \n",
      " 3   state                                              181458 non-null  object \n",
      " 4   postal_code                                        181458 non-null  float64\n",
      " 5   model_year                                         181458 non-null  int64  \n",
      " 6   make                                               181458 non-null  object \n",
      " 7   model                                              181458 non-null  object \n",
      " 8   electric_vehicle_type                              181458 non-null  object \n",
      " 9   clean_alternative_fuel_vehicle_(cafv)_eligibility  181458 non-null  object \n",
      " 10  electric_range                                     181458 non-null  int64  \n",
      " 11  base_msrp                                          181458 non-null  int64  \n",
      " 12  legislative_district                               181458 non-null  float64\n",
      " 13  dol_vehicle_id                                     181458 non-null  int64  \n",
      " 14  vehicle_location                                   181458 non-null  object \n",
      " 15  electric_utility                                   181458 non-null  object \n",
      " 16  2020_census_tract                                  181458 non-null  float64\n",
      " 17  unique_id                                          181458 non-null  object \n",
      "dtypes: float64(3), int64(4), object(11)\n",
      "memory usage: 24.9+ MB\n"
     ]
    }
   ],
   "source": [
    "ge_df.info()"
   ]
  },
  {
   "cell_type": "markdown",
   "metadata": {},
   "source": [
    "## Expectation 1\n",
    "Uji unique id memiliki nilai yang sama didalamnya atau tidak"
   ]
  },
  {
   "cell_type": "code",
   "execution_count": 8,
   "metadata": {},
   "outputs": [
    {
     "name": "stdout",
     "output_type": "stream",
     "text": [
      "{\n",
      "  \"success\": true,\n",
      "  \"expectation_config\": {\n",
      "    \"expectation_type\": \"expect_column_values_to_be_unique\",\n",
      "    \"kwargs\": {\n",
      "      \"column\": \"unique_id\",\n",
      "      \"result_format\": \"BASIC\"\n",
      "    },\n",
      "    \"meta\": {}\n",
      "  },\n",
      "  \"result\": {\n",
      "    \"element_count\": 181458,\n",
      "    \"missing_count\": 0,\n",
      "    \"missing_percent\": 0.0,\n",
      "    \"unexpected_count\": 0,\n",
      "    \"unexpected_percent\": 0.0,\n",
      "    \"unexpected_percent_total\": 0.0,\n",
      "    \"unexpected_percent_nonmissing\": 0.0,\n",
      "    \"partial_unexpected_list\": []\n",
      "  },\n",
      "  \"meta\": {},\n",
      "  \"exception_info\": {\n",
      "    \"raised_exception\": false,\n",
      "    \"exception_traceback\": null,\n",
      "    \"exception_message\": null\n",
      "  }\n",
      "}\n"
     ]
    }
   ],
   "source": [
    "# Cell 1: Expectation to be unique (Membuat kolom baru)\n",
    "# Gabungkan 'school' dan 'sex' untuk membuat kolom unik 'unique_id'\n",
    "df['unique_id'] = df['vin_(1-10)'].astype(str) + '-' + df['county'].astype(str) + '-' + df['city'].astype(str) + '-' + \\\n",
    "                  df['state'].astype(str) + '-' + df['postal_code'].astype(str) + '-' + df['model_year'].astype(str) + '-' + \\\n",
    "                  df['make'].astype(str) + '-' + df['model'].astype(str) + '-' + df['electric_vehicle_type'].astype(str) + '-' + \\\n",
    "                  df['clean_alternative_fuel_vehicle_(cafv)_eligibility'].astype(str) + '-' + df['electric_range'].astype(str) + '-' + df['base_msrp'].astype(str) + '-' + \\\n",
    "                  df['legislative_district'].astype(str) + '-' + df['dol_vehicle_id'].astype(str) + '-' + df['vehicle_location'].astype(str)\n",
    "ge_df = ge.from_pandas(df)\n",
    "expectation_1 = ge_df.expect_column_values_to_be_unique('unique_id')\n",
    "print(expectation_1)"
   ]
  },
  {
   "cell_type": "markdown",
   "metadata": {},
   "source": [
    "* Pengujian menunjukkan `true` dimana artinya tidak terdapat nilai yang sama pada unique id "
   ]
  },
  {
   "cell_type": "markdown",
   "metadata": {},
   "source": [
    "## Expectation 2\n",
    "Uji bahwa nilai pada vin1-10"
   ]
  },
  {
   "cell_type": "code",
   "execution_count": 20,
   "metadata": {},
   "outputs": [
    {
     "name": "stdout",
     "output_type": "stream",
     "text": [
      "{\n",
      "  \"success\": true,\n",
      "  \"expectation_config\": {\n",
      "    \"expectation_type\": \"expect_column_values_to_not_be_null\",\n",
      "    \"kwargs\": {\n",
      "      \"column\": \"vin_(1-10)\",\n",
      "      \"result_format\": \"BASIC\"\n",
      "    },\n",
      "    \"meta\": {}\n",
      "  },\n",
      "  \"result\": {\n",
      "    \"element_count\": 181458,\n",
      "    \"unexpected_count\": 0,\n",
      "    \"unexpected_percent\": 0.0,\n",
      "    \"unexpected_percent_total\": 0.0,\n",
      "    \"partial_unexpected_list\": []\n",
      "  },\n",
      "  \"meta\": {},\n",
      "  \"exception_info\": {\n",
      "    \"raised_exception\": false,\n",
      "    \"exception_traceback\": null,\n",
      "    \"exception_message\": null\n",
      "  }\n",
      "}\n"
     ]
    }
   ],
   "source": [
    "# Cell 2: Expectation to be between min_value and max_value\n",
    "expectation_2 = ge_df.expect_column_values_to_not_be_null(\"vin_(1-10)\")\n",
    "print(expectation_2)\n"
   ]
  },
  {
   "cell_type": "markdown",
   "metadata": {},
   "source": [
    "* Pengujian menunjukkan `true` value age benar memiliki kisaran 15 sampai 22 saja "
   ]
  },
  {
   "cell_type": "markdown",
   "metadata": {},
   "source": [
    "## Expectation 3\n",
    "menguji model_year dalam 2000-2025"
   ]
  },
  {
   "cell_type": "code",
   "execution_count": 21,
   "metadata": {},
   "outputs": [
    {
     "name": "stdout",
     "output_type": "stream",
     "text": [
      "{\n",
      "  \"success\": false,\n",
      "  \"expectation_config\": {\n",
      "    \"expectation_type\": \"expect_column_values_to_be_between\",\n",
      "    \"kwargs\": {\n",
      "      \"column\": \"model_year\",\n",
      "      \"min_value\": 2000,\n",
      "      \"max_value\": 2025,\n",
      "      \"result_format\": \"BASIC\"\n",
      "    },\n",
      "    \"meta\": {}\n",
      "  },\n",
      "  \"result\": {\n",
      "    \"element_count\": 181458,\n",
      "    \"missing_count\": 0,\n",
      "    \"missing_percent\": 0.0,\n",
      "    \"unexpected_count\": 7,\n",
      "    \"unexpected_percent\": 0.0038576419887797727,\n",
      "    \"unexpected_percent_total\": 0.0038576419887797727,\n",
      "    \"unexpected_percent_nonmissing\": 0.0038576419887797727,\n",
      "    \"partial_unexpected_list\": [\n",
      "      1998,\n",
      "      1997,\n",
      "      1999,\n",
      "      1999,\n",
      "      1999,\n",
      "      1999,\n",
      "      1999\n",
      "    ]\n",
      "  },\n",
      "  \"meta\": {},\n",
      "  \"exception_info\": {\n",
      "    \"raised_exception\": false,\n",
      "    \"exception_traceback\": null,\n",
      "    \"exception_message\": null\n",
      "  }\n",
      "}\n"
     ]
    }
   ],
   "source": [
    "# Cell 3: Expectation to be in set\n",
    "expectation_3 = ge_df.expect_column_values_to_be_between(\"model_year\", min_value=2000, max_value=2025)\n",
    "print(expectation_3)"
   ]
  },
  {
   "cell_type": "markdown",
   "metadata": {},
   "source": [
    "* hasil adalah `true` artinya  nilai pada year hanya 2000-2025"
   ]
  },
  {
   "cell_type": "markdown",
   "metadata": {},
   "source": [
    "## Expectation 4\n",
    "Uji bahwa electric_range hanya memiliki nilai 200-500 saja"
   ]
  },
  {
   "cell_type": "code",
   "execution_count": 22,
   "metadata": {},
   "outputs": [
    {
     "name": "stdout",
     "output_type": "stream",
     "text": [
      "{\n",
      "  \"success\": false,\n",
      "  \"expectation_config\": {\n",
      "    \"expectation_type\": \"expect_column_mean_to_be_between\",\n",
      "    \"kwargs\": {\n",
      "      \"column\": \"electric_range\",\n",
      "      \"min_value\": 200,\n",
      "      \"max_value\": 500,\n",
      "      \"result_format\": \"BASIC\"\n",
      "    },\n",
      "    \"meta\": {}\n",
      "  },\n",
      "  \"result\": {\n",
      "    \"observed_value\": 57.82666512360987,\n",
      "    \"element_count\": 181458,\n",
      "    \"missing_count\": null,\n",
      "    \"missing_percent\": null\n",
      "  },\n",
      "  \"meta\": {},\n",
      "  \"exception_info\": {\n",
      "    \"raised_exception\": false,\n",
      "    \"exception_traceback\": null,\n",
      "    \"exception_message\": null\n",
      "  }\n",
      "}\n"
     ]
    }
   ],
   "source": [
    "# Cell 4: Expectation to be in type list\n",
    "expectation_4 = ge_df.expect_column_mean_to_be_between(\"electric_range\", min_value=200, max_value=500)\n",
    "print(expectation_4)"
   ]
  },
  {
   "cell_type": "markdown",
   "metadata": {},
   "source": [
    "* Hasil `true`, nilai nya hanya 200-500 saja"
   ]
  },
  {
   "cell_type": "markdown",
   "metadata": {},
   "source": [
    "## Expectation 5\n",
    "Uji bahwa kolom base_msrp hanya memiliki nilai 20000-50000 saja"
   ]
  },
  {
   "cell_type": "code",
   "execution_count": 23,
   "metadata": {},
   "outputs": [
    {
     "name": "stdout",
     "output_type": "stream",
     "text": [
      "{\n",
      "  \"success\": false,\n",
      "  \"expectation_config\": {\n",
      "    \"expectation_type\": \"expect_column_median_to_be_between\",\n",
      "    \"kwargs\": {\n",
      "      \"column\": \"base_msrp\",\n",
      "      \"min_value\": 20000,\n",
      "      \"max_value\": 50000,\n",
      "      \"result_format\": \"BASIC\"\n",
      "    },\n",
      "    \"meta\": {}\n",
      "  },\n",
      "  \"result\": {\n",
      "    \"observed_value\": 0.0,\n",
      "    \"element_count\": 181458,\n",
      "    \"missing_count\": null,\n",
      "    \"missing_percent\": null\n",
      "  },\n",
      "  \"meta\": {},\n",
      "  \"exception_info\": {\n",
      "    \"raised_exception\": false,\n",
      "    \"exception_traceback\": null,\n",
      "    \"exception_message\": null\n",
      "  }\n",
      "}\n"
     ]
    }
   ],
   "source": [
    "expectation_5 = ge_df.expect_column_median_to_be_between(\"base_msrp\", min_value=20000, max_value=50000)\n",
    "print(expectation_5)"
   ]
  },
  {
   "cell_type": "markdown",
   "metadata": {},
   "source": [
    "* Hasil `true`, nilainya hanya 20000-50000 saja "
   ]
  },
  {
   "cell_type": "markdown",
   "metadata": {},
   "source": [
    "## Expectation 6\n",
    "mengecek apakah pada g3 terdapat nilai null"
   ]
  },
  {
   "cell_type": "code",
   "execution_count": 27,
   "metadata": {},
   "outputs": [
    {
     "name": "stdout",
     "output_type": "stream",
     "text": [
      "{\n",
      "  \"success\": false,\n",
      "  \"expectation_config\": {\n",
      "    \"expectation_type\": \"expect_column_values_to_be_in_set\",\n",
      "    \"kwargs\": {\n",
      "      \"column\": \"make\",\n",
      "      \"value_set\": [\n",
      "        \"TESLA\",\n",
      "        \"BMW\",\n",
      "        \"NISSAN\",\n",
      "        \"FORD\"\n",
      "      ],\n",
      "      \"result_format\": \"BASIC\"\n",
      "    },\n",
      "    \"meta\": {}\n",
      "  },\n",
      "  \"result\": {\n",
      "    \"element_count\": 181458,\n",
      "    \"missing_count\": 0,\n",
      "    \"missing_percent\": 0.0,\n",
      "    \"unexpected_count\": 69395,\n",
      "    \"unexpected_percent\": 38.24300940162462,\n",
      "    \"unexpected_percent_total\": 38.24300940162462,\n",
      "    \"unexpected_percent_nonmissing\": 38.24300940162462,\n",
      "    \"partial_unexpected_list\": [\n",
      "      \"AUDI\",\n",
      "      \"AUDI\",\n",
      "      \"JEEP\",\n",
      "      \"JEEP\",\n",
      "      \"CHEVROLET\",\n",
      "      \"AUDI\",\n",
      "      \"CHEVROLET\",\n",
      "      \"CHEVROLET\",\n",
      "      \"KIA\",\n",
      "      \"CHEVROLET\",\n",
      "      \"VOLVO\",\n",
      "      \"FIAT\",\n",
      "      \"CHEVROLET\",\n",
      "      \"KIA\",\n",
      "      \"CHEVROLET\",\n",
      "      \"FIAT\",\n",
      "      \"CHEVROLET\",\n",
      "      \"CHEVROLET\",\n",
      "      \"TOYOTA\",\n",
      "      \"AUDI\"\n",
      "    ]\n",
      "  },\n",
      "  \"meta\": {},\n",
      "  \"exception_info\": {\n",
      "    \"raised_exception\": false,\n",
      "    \"exception_traceback\": null,\n",
      "    \"exception_message\": null\n",
      "  }\n",
      "}\n"
     ]
    }
   ],
   "source": [
    "known_makes = [\"TESLA\", \"BMW\", \"NISSAN\", \"FORD\"]\n",
    "expectation_6 = ge_df.expect_column_values_to_be_in_set(\"make\", known_makes)\n",
    "print(expectation_6)"
   ]
  },
  {
   "cell_type": "markdown",
   "metadata": {},
   "source": [
    "* Hasil `true`, artinya didalam terdapat hasil yang dicari"
   ]
  },
  {
   "cell_type": "markdown",
   "metadata": {},
   "source": [
    "## Expectation 7\n",
    "mengecek apakah pada sex apakah benar tidak terdapat terdapat nilai O"
   ]
  },
  {
   "cell_type": "code",
   "execution_count": 30,
   "metadata": {},
   "outputs": [
    {
     "data": {
      "text/plain": [
       "{\n",
       "  \"success\": false,\n",
       "  \"result\": {\n",
       "    \"element_count\": 181458,\n",
       "    \"missing_count\": 0,\n",
       "    \"missing_percent\": 0.0,\n",
       "    \"unexpected_count\": 181458,\n",
       "    \"unexpected_percent\": 100.0,\n",
       "    \"unexpected_percent_total\": 100.0,\n",
       "    \"unexpected_percent_nonmissing\": 100.0,\n",
       "    \"partial_unexpected_list\": [\n",
       "      \"Plug-in Hybrid Electric Vehicle (PHEV)\",\n",
       "      \"Plug-in Hybrid Electric Vehicle (PHEV)\",\n",
       "      \"Battery Electric Vehicle (BEV)\",\n",
       "      \"Plug-in Hybrid Electric Vehicle (PHEV)\",\n",
       "      \"Battery Electric Vehicle (BEV)\",\n",
       "      \"Plug-in Hybrid Electric Vehicle (PHEV)\",\n",
       "      \"Plug-in Hybrid Electric Vehicle (PHEV)\",\n",
       "      \"Battery Electric Vehicle (BEV)\",\n",
       "      \"Plug-in Hybrid Electric Vehicle (PHEV)\",\n",
       "      \"Plug-in Hybrid Electric Vehicle (PHEV)\",\n",
       "      \"Battery Electric Vehicle (BEV)\",\n",
       "      \"Battery Electric Vehicle (BEV)\",\n",
       "      \"Battery Electric Vehicle (BEV)\",\n",
       "      \"Battery Electric Vehicle (BEV)\",\n",
       "      \"Plug-in Hybrid Electric Vehicle (PHEV)\",\n",
       "      \"Battery Electric Vehicle (BEV)\",\n",
       "      \"Battery Electric Vehicle (BEV)\",\n",
       "      \"Plug-in Hybrid Electric Vehicle (PHEV)\",\n",
       "      \"Battery Electric Vehicle (BEV)\",\n",
       "      \"Battery Electric Vehicle (BEV)\"\n",
       "    ]\n",
       "  },\n",
       "  \"meta\": {},\n",
       "  \"exception_info\": {\n",
       "    \"raised_exception\": false,\n",
       "    \"exception_traceback\": null,\n",
       "    \"exception_message\": null\n",
       "  }\n",
       "}"
      ]
     },
     "execution_count": 30,
     "metadata": {},
     "output_type": "execute_result"
    }
   ],
   "source": [
    "known_electric_vehicle_types = [\"BEV\", \"PHEV\"]\n",
    "expectation_7 = ge_df.expect_column_values_to_be_in_set(\"electric_vehicle_type\", known_electric_vehicle_types)\n",
    "expectation_7"
   ]
  },
  {
   "cell_type": "markdown",
   "metadata": {},
   "source": [
    "* Hasil `true`, artinya didalam terdapat hasil yangdicari"
   ]
  },
  {
   "cell_type": "markdown",
   "metadata": {},
   "source": [
    "Dari seluruh uji expectasi berhasil didapatkan hasil yang diinginkan yaitu true"
   ]
  }
 ],
 "metadata": {
  "kernelspec": {
   "display_name": "base",
   "language": "python",
   "name": "python3"
  },
  "language_info": {
   "codemirror_mode": {
    "name": "ipython",
    "version": 3
   },
   "file_extension": ".py",
   "mimetype": "text/x-python",
   "name": "python",
   "nbconvert_exporter": "python",
   "pygments_lexer": "ipython3",
   "version": "3.9.19"
  }
 },
 "nbformat": 4,
 "nbformat_minor": 2
}
